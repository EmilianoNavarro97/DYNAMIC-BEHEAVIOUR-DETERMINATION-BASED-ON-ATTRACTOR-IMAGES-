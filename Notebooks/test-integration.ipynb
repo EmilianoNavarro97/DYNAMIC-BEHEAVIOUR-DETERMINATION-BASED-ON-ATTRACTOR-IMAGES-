{
 "cells": [
  {
   "cell_type": "code",
   "execution_count": 1,
   "id": "infectious-coupon",
   "metadata": {},
   "outputs": [],
   "source": [
    "import numpy as np\n",
    "from numba import njit\n",
    "from tqdm import tqdm\n",
    "import matplotlib.pyplot as plt\n",
    "from scipy.integrate import odeint"
   ]
  },
  {
   "cell_type": "code",
   "execution_count": 2,
   "id": "proprietary-argument",
   "metadata": {},
   "outputs": [],
   "source": [
    "def transiente(prox):\n",
    "    \"\"\" Argumentos: \n",
    "        prox -- proximidad a un punto de bifurcación del diagrama, escogido manualmente\n",
    "                debe ser un int del 1 al 10. \n",
    "\n",
    "        Retorna:\n",
    "        N -- número de puntos en la integración del sistema\n",
    "        T -- transiente a ser considerada para llegar a la estabilización\n",
    "    \"\"\"\n",
    "    # Número de puntos y tamaño de paso en la integración del sistema: \n",
    "    n = 300000 + prox * 100000\n",
    "    t = int(round(n*0.4))\n",
    "\n",
    "    return n, t"
   ]
  },
  {
   "cell_type": "code",
   "execution_count": 3,
   "id": "laden-business",
   "metadata": {},
   "outputs": [],
   "source": [
    "@njit\n",
    "def f(a, b, x):\n",
    "    return b*x + 0.5*(a-b)*(abs(x+1) - abs(x-1))\n",
    "\n",
    "\n",
    "@njit\n",
    "def dx_dt(a, b, k, α, x, y):\n",
    "    return k*α*(y - x - f(a, b, x))\n",
    "\n",
    "\n",
    "@njit\n",
    "def dy_dt(k, x, y, z):\n",
    "    return k*(x - y + z)\n",
    "\n",
    "\n",
    "@njit\n",
    "def dz_dt(k, β, γ, y, z):\n",
    "    return -k*(β*y + γ*z)\n",
    "\n",
    "\n",
    "@njit\n",
    "def rk_solver(a, b, k, α, β, γ, x, y, z, n_steps, transient_drop, h=0.001):\n",
    "    trajectory = np.empty((n_steps - transient_drop, 3), dtype=np.float64)\n",
    "\n",
    "    idx = 0\n",
    "    for t in range(1, n_steps + 1):\n",
    "        k1 = dx_dt(a, b, k, α, x, y)\n",
    "        k2 = dx_dt(a, b, k, α, x + 0.5 * k1 * h, y)\n",
    "        k3 = dx_dt(a, b, k, α, x + 0.5 * k2 * h, y)\n",
    "        k4 = dx_dt(a, b, k, α, x + k3 * h, y)\n",
    "        px = x + 1 / 6 * (k1 + 2 * k2 + 2 * k3 + k4) * h\n",
    "\n",
    "        k1 = dy_dt(k, x, y, z)\n",
    "        k2 = dy_dt(k, x, y + 0.5 * k1 * h, z)\n",
    "        k3 = dy_dt(k, x, y + 0.5 * k2 * h, z)\n",
    "        k4 = dy_dt(k, x, y + k3 * h, z)\n",
    "        py = y + 1 / 6 * (k1 + 2 * k2 + 2 * k3 + k4) * h\n",
    "\n",
    "        k1 = dz_dt(k, β, γ, y, z)\n",
    "        k2 = dz_dt(k, β, γ, y, z + 0.5 * k1 * h)\n",
    "        k3 = dz_dt(k, β, γ, y, z + 0.5 * k2 * h)\n",
    "        k4 = dz_dt(k, β, γ, y, z + k3 * h)\n",
    "        pz = z + 1 / 6 * (k1 + 2 * k2 + 2 * k3 + k4) * h\n",
    "        \n",
    "        if t > transient_drop:\n",
    "            trajectory[idx, 0] = px\n",
    "            trajectory[idx, 1] = py\n",
    "            trajectory[idx, 2] = pz\n",
    "            idx += 1\n",
    "\n",
    "        x, y, z = px, py, pz\n",
    "\n",
    "    return trajectory"
   ]
  },
  {
   "cell_type": "code",
   "execution_count": 4,
   "id": "theoretical-wings",
   "metadata": {},
   "outputs": [],
   "source": [
    "def plot(a, b, k, α, β, γ, init_cond, proximity, row, col, lyapunov, base_path=None):\n",
    "    n_steps, transient_drop = transiente(proximity)\n",
    "\n",
    "    points = rk_solver(a, b, k, α, β, γ,\n",
    "                       init_cond[0], init_cond[1], init_cond[2], n_steps, transient_drop)\n",
    "\n",
    "    # elevation, azimuth = np.random.randint(0, 360, (2,))\n",
    "    elevation, azimuth = 45, 45\n",
    "\n",
    "    ax = plt.axes(projection='3d')\n",
    "\n",
    "    ax.plot3D(points[:, 0], points[:, 1], points[:, 2], 'black', linewidth=0.5)\n",
    "    ax.set_axis_off()\n",
    "    ax.view_init(elev=elevation, azim=azimuth)\n",
    "\n",
    "    if base_path:\n",
    "        plt.savefig(f'{base_path}/{row}_{col}_{lyapunov}.png', bbox_inches='tight')\n",
    "        plt.close()\n",
    "    else:\n",
    "        plt.show()\n",
    "        \n",
    "    return points"
   ]
  },
  {
   "cell_type": "code",
   "execution_count": 52,
   "id": "aggressive-racing",
   "metadata": {},
   "outputs": [],
   "source": [
    "lyapunov_exp_mat = np.load('../Data/lyapunov_exp.npy')\n",
    "alpha_gamma_mat = np.load('../Data/alpha_gamma.npy')\n",
    "\n",
    "# α y γ variable\n",
    "β = 1000.0\n",
    "a = -8/7\n",
    "b = -5/7\n",
    "k = 1\n",
    "init_cond = [1.1, 0.12, 0.01]"
   ]
  },
  {
   "cell_type": "code",
   "execution_count": 53,
   "id": "selected-indicator",
   "metadata": {
    "scrolled": true
   },
   "outputs": [
    {
     "name": "stdout",
     "output_type": "stream",
     "text": [
      "(480000, 3)\n"
     ]
    },
    {
     "data": {
      "image/png": "[encoded data removed]",
      "text/plain": [
       "<Figure size 432x288 with 1 Axes>"
      ]
     },
     "metadata": {
      "needs_background": "light"
     },
     "output_type": "display_data"
    }
   ],
   "source": [
    "i, j = 598, 192\n",
    "α, γ = alpha_gamma_mat[i, j]\n",
    "points = plot(a, b, k, α, β, γ, init_cond, 5, i, j, lyapunov_exp_mat[i, j])"
   ]
  },
  {
   "cell_type": "code",
   "execution_count": 2,
   "id": "cloudy-flower",
   "metadata": {},
   "outputs": [],
   "source": [
    "import cv2"
   ]
  },
  {
   "cell_type": "code",
   "execution_count": 3,
   "id": "alpine-crowd",
   "metadata": {},
   "outputs": [],
   "source": [
    "# img = cv2.imread('../FigImages/0_0.jpg', cv2.IMREAD_UNCHANGED)\n",
    "plt.imshow(img[45:340, 50:340])\n",
    "# plt.show()"
   ]
  },
  {
   "cell_type": "markdown",
   "id": "micro-attitude",
   "metadata": {},
   "source": [
    "## Scipy vs Self"
   ]
  },
  {
   "cell_type": "code",
   "execution_count": 5,
   "id": "supreme-extreme",
   "metadata": {},
   "outputs": [],
   "source": [
    "@njit\n",
    "def sistema(coords, t, a, b, k, α, β, γ):\n",
    "    x, y, z = coords\n",
    "    dydt = [dx_dt(a, b, k, α, x, y), dy_dt(k, x, y, z), dz_dt(k, β, γ, y, z)]\n",
    "    return dydt"
   ]
  },
  {
   "cell_type": "code",
   "execution_count": 6,
   "id": "animated-heaven",
   "metadata": {},
   "outputs": [],
   "source": [
    "α_space = np.linspace(6.2054, 8.2467, 1200)\n",
    "β = 10.8976626192\n",
    "γ = -0.0447440294\n",
    "a = -1.1819730746\n",
    "b = -0.6523354182\n",
    "k = 1\n",
    "init_cond = [0.02, 0.01, 0.0]"
   ]
  },
  {
   "cell_type": "code",
   "execution_count": 45,
   "id": "exciting-foster",
   "metadata": {},
   "outputs": [],
   "source": [
    "idx = 179"
   ]
  },
  {
   "cell_type": "code",
   "execution_count": 65,
   "id": "clean-thomson",
   "metadata": {},
   "outputs": [
    {
     "data": {
      "image/png": "[encoded data removed]",
      "text/plain": [
       "<Figure size 432x288 with 1 Axes>"
      ]
     },
     "metadata": {
      "needs_background": "light"
     },
     "output_type": "display_data"
    }
   ],
   "source": [
    "n_steps, transient_drop = transiente(1)\n",
    "tvals = np.arange(0, int(n_steps*0.001), 0.001)\n",
    "\n",
    "sol = odeint(sistema, init_cond, tvals, args=(a, b, k, α_space[idx], β, γ))\n",
    "\n",
    "elevation, azimuth = 45, 45\n",
    "\n",
    "ax = plt.axes(projection='3d')\n",
    "ax.set_axis_off()\n",
    "ax.view_init(elev=elevation, azim=azimuth)\n",
    "ax.plot3D(sol[transient_drop:, 0], sol[transient_drop:, 1], sol[transient_drop:, 2], 'black', linewidth=0.5)\n",
    "    \n",
    "plt.show()"
   ]
  },
  {
   "cell_type": "code",
   "execution_count": 58,
   "id": "material-journalism",
   "metadata": {},
   "outputs": [
    {
     "data": {
      "image/png": "[encoded data removed]",
      "text/plain": [
       "<Figure size 432x288 with 1 Axes>"
      ]
     },
     "metadata": {
      "needs_background": "light"
     },
     "output_type": "display_data"
    }
   ],
   "source": [
    "trajectory = rk_solver(a, b, k, α_space[idx], β, γ, init_cond[0], init_cond[1], init_cond[2],\n",
    "                       n_steps, transient_drop, h=0.0007)\n",
    "\n",
    "elevation, azimuth = 45, 45\n",
    "\n",
    "ax = plt.axes(projection='3d')\n",
    "ax.set_axis_off()\n",
    "ax.view_init(elev=elevation, azim=azimuth)\n",
    "ax.plot3D(trajectory[:, 0], trajectory[:, 1], trajectory[:, 0], 'black', linewidth=0.5)\n",
    "    \n",
    "plt.show()"
   ]
  }
 ],
 "metadata": {
  "kernelspec": {
   "display_name": "Python 3",
   "language": "python",
   "name": "python3"
  },
  "language_info": {
   "codemirror_mode": {
    "name": "ipython",
    "version": 3
   },
   "file_extension": ".py",
   "mimetype": "text/x-python",
   "name": "python",
   "nbconvert_exporter": "python",
   "pygments_lexer": "ipython3",
   "version": "3.8.8"
  }
 },
 "nbformat": 4,
 "nbformat_minor": 5
}
