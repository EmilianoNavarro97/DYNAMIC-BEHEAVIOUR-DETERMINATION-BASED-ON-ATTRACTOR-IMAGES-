{
 "cells": [
  {
   "cell_type": "code",
   "execution_count": 1,
   "id": "collected-invitation",
   "metadata": {},
   "outputs": [],
   "source": [
    "import sys\n",
    "sys.path.append('../')"
   ]
  },
  {
   "cell_type": "code",
   "execution_count": 2,
   "id": "plain-question",
   "metadata": {},
   "outputs": [],
   "source": [
    "from numba import njit\n",
    "import numpy as np\n",
    "from functions import *"
   ]
  },
  {
   "cell_type": "code",
   "execution_count": 3,
   "id": "ceramic-mills",
   "metadata": {},
   "outputs": [],
   "source": [
    "lyapunov_exp_mat = np.load('../Data/lyapunov_exp.npy')\n",
    "alpha_gamma_mat = np.load('../Data/alpha_gamma.npy')"
   ]
  },
  {
   "cell_type": "code",
   "execution_count": 4,
   "id": "straight-mayor",
   "metadata": {},
   "outputs": [
    {
     "name": "stdout",
     "output_type": "stream",
     "text": [
      "-1.645218\n"
     ]
    }
   ],
   "source": [
    "β = 1000.0\n",
    "a = -8 / 7\n",
    "b = -5 / 7\n",
    "k = 1\n",
    "init_cond = [1.1, 0.12, 0.01]\n",
    "\n",
    "α, γ = alpha_gamma_mat[0, 98]\n",
    "print(lyapunov_exp_mat[0, 98])\n",
    "\n",
    "n_steps, transient_drop = transient(1)\n",
    "trajectory = rk_solver(a, b, k, α, β, γ, init_cond[0], init_cond[1], init_cond[2], n_steps, transient_drop, 0.001)"
   ]
  },
  {
   "cell_type": "code",
   "execution_count": 5,
   "id": "british-motion",
   "metadata": {
    "scrolled": false
   },
   "outputs": [
    {
     "data": {
      "text/plain": [
       "OrderedDict([(('../functions.py:15',\n",
       "               '(int64, omitted(default=300000), omitted(default=100000)) -> UniTuple(int64 x 2)'),\n",
       "              {'num_lifted_loops': 0,\n",
       "               'filename': '../functions.py',\n",
       "               'funcname': 'transient',\n",
       "               'python_lines': [(14, '@njit'),\n",
       "                (15,\n",
       "                 \"@cc.export('transient', 'UniTuple(int64, 2)(int64, Omitted(300000), Omitted(100000))')\"),\n",
       "                (16,\n",
       "                 'def transient(proximity: int, additive=300_000, scale=100_000) -> Tuple[int, int]:'),\n",
       "                (17, '\"\"\"'),\n",
       "                (18,\n",
       "                 'Calculates the number of integration steps given the proximity to'),\n",
       "                (19, 'a bifurcation'),\n",
       "                (20,\n",
       "                 ':param proximity: proximity to a bifurcation point between 1 and 10'),\n",
       "                (21, ':param additive: additive term for the calculation'),\n",
       "                (22, ':param scale: scale term for the calculation'),\n",
       "                (23, ':returns n: number of integration steps'),\n",
       "                (24,\n",
       "                 't: number of transient steps to drop before considering a valid path'),\n",
       "                (25, ':raise ValueError if proximity is not in range'),\n",
       "                (26, '\"\"\"'),\n",
       "                (27, 'if not (1 <= proximity <= 10):'),\n",
       "                (28, \"raise ValueError('Proximity out of range')\"),\n",
       "                (29, ''),\n",
       "                (30, 'n = additive + proximity * scale'),\n",
       "                (31, 't = round(n*0.4)'),\n",
       "                (32, ''),\n",
       "                (33, 'return n, t')],\n",
       "               'python_indent': {14: 0,\n",
       "                15: 0,\n",
       "                16: 0,\n",
       "                17: 4,\n",
       "                18: 4,\n",
       "                19: 4,\n",
       "                20: 4,\n",
       "                21: 4,\n",
       "                22: 4,\n",
       "                23: 4,\n",
       "                24: 13,\n",
       "                25: 4,\n",
       "                26: 4,\n",
       "                27: 4,\n",
       "                28: 8,\n",
       "                29: 0,\n",
       "                30: 4,\n",
       "                31: 4,\n",
       "                32: 0,\n",
       "                33: 4},\n",
       "               'python_tags': {14: '',\n",
       "                15: '',\n",
       "                16: '',\n",
       "                17: '',\n",
       "                18: '',\n",
       "                19: '',\n",
       "                20: '',\n",
       "                21: '',\n",
       "                22: '',\n",
       "                23: '',\n",
       "                24: '',\n",
       "                25: '',\n",
       "                26: '',\n",
       "                27: '',\n",
       "                28: '',\n",
       "                29: '',\n",
       "                30: '',\n",
       "                31: '',\n",
       "                32: '',\n",
       "                33: ''},\n",
       "               'ir_lines': {14: [],\n",
       "                15: [],\n",
       "                16: [],\n",
       "                17: [],\n",
       "                18: [],\n",
       "                19: [],\n",
       "                20: [],\n",
       "                21: [],\n",
       "                22: [],\n",
       "                23: [],\n",
       "                24: [],\n",
       "                25: [],\n",
       "                26: [],\n",
       "                27: [('label 0', ''),\n",
       "                 ('proximity = arg(0, name=proximity)  :: int64', ''),\n",
       "                 ('additive = arg(1, name=additive)  :: Literal[int](300000)',\n",
       "                  ''),\n",
       "                 ('scale = arg(2, name=scale)  :: Literal[int](100000)', ''),\n",
       "                 ('$const2.0 = const(int, 1)  :: Literal[int](1)', ''),\n",
       "                 ('$10compare_op.3 = $const2.0 <= proximity  :: bool', ''),\n",
       "                 ('del $const2.0', ''),\n",
       "                 (\"bool12 = global(bool: <class 'bool'>)  :: Function(<class 'bool'>)\",\n",
       "                  ''),\n",
       "                 ('$12pred = call bool12($10compare_op.3, func=bool12, args=(Var($10compare_op.3, functions.py:27),), kws=(), vararg=None)  :: (bool,) -> bool',\n",
       "                  ''),\n",
       "                 ('del bool12', ''),\n",
       "                 ('del $10compare_op.3', ''),\n",
       "                 ('$phi14.0 = proximity  :: int64', ''),\n",
       "                 ('branch $12pred, 14, 22', ''),\n",
       "                 ('label 14', ''),\n",
       "                 ('del $12pred', ''),\n",
       "                 ('$const14.1 = const(int, 10)  :: Literal[int](10)', ''),\n",
       "                 ('$16compare_op.2 = $phi14.0 <= $const14.1  :: bool', ''),\n",
       "                 ('del $phi14.0', ''),\n",
       "                 ('del $const14.1', ''),\n",
       "                 (\"bool18 = global(bool: <class 'bool'>)  :: Function(<class 'bool'>)\",\n",
       "                  ''),\n",
       "                 ('$18pred = call bool18($16compare_op.2, func=bool18, args=(Var($16compare_op.2, functions.py:27),), kws=(), vararg=None)  :: (bool,) -> bool',\n",
       "                  ''),\n",
       "                 ('del bool18', ''),\n",
       "                 ('del $16compare_op.2', ''),\n",
       "                 ('branch $18pred, 32, 20', ''),\n",
       "                 ('label 20', ''),\n",
       "                 ('del scale', ''),\n",
       "                 ('del proximity', ''),\n",
       "                 ('del additive', ''),\n",
       "                 ('del $18pred', ''),\n",
       "                 ('jump 24', ''),\n",
       "                 ('label 22', '')],\n",
       "                28: [('del scale', ''),\n",
       "                 ('del proximity', ''),\n",
       "                 ('del additive', ''),\n",
       "                 ('del $phi14.0', ''),\n",
       "                 ('del $12pred', ''),\n",
       "                 ('jump 24', ''),\n",
       "                 ('label 24', ''),\n",
       "                 (\"$24load_global.0 = global(ValueError: <class 'ValueError'>)  :: ValueError\",\n",
       "                  ''),\n",
       "                 ('$const26.1 = const(str, Proximity out of range)  :: Literal[str](Proximity out of range)',\n",
       "                  ''),\n",
       "                 ('$28call_function.2 = call $24load_global.0($const26.1, func=$24load_global.0, args=[Var($const26.1, functions.py:28)], kws=(), vararg=None)  :: () -> ValueError(...)',\n",
       "                  ''),\n",
       "                 ('del $const26.1', ''),\n",
       "                 ('del $28call_function.2', ''),\n",
       "                 ('del $24load_global.0', ''),\n",
       "                 (\"<static> raise <class 'ValueError'>('Proximity out of range')\",\n",
       "                  '')],\n",
       "                29: [],\n",
       "                30: [('label 32', ''),\n",
       "                 ('del $18pred', ''),\n",
       "                 ('$38binary_multiply.3 = proximity * scale  :: int64', ''),\n",
       "                 ('del scale', ''),\n",
       "                 ('del proximity', ''),\n",
       "                 ('n = additive + $38binary_multiply.3  :: int64', ''),\n",
       "                 ('del additive', ''),\n",
       "                 ('del $38binary_multiply.3', '')],\n",
       "                31: [('$44load_global.5 = global(round: <built-in function round>)  :: Function(<built-in function round>)',\n",
       "                  ''),\n",
       "                 ('$const48.7 = const(float, 0.4)  :: float64', ''),\n",
       "                 ('$50binary_multiply.8 = n * $const48.7  :: float64', ''),\n",
       "                 ('del $const48.7', ''),\n",
       "                 ('t = call $44load_global.5($50binary_multiply.8, func=$44load_global.5, args=[Var($50binary_multiply.8, functions.py:31)], kws=(), vararg=None)  :: (float64,) -> int64',\n",
       "                  ''),\n",
       "                 ('del $50binary_multiply.8', ''),\n",
       "                 ('del $44load_global.5', '')],\n",
       "                32: [],\n",
       "                33: [('$60build_tuple.12 = build_tuple(items=[Var(n, functions.py:30), Var(t, functions.py:31)])  :: UniTuple(int64 x 2)',\n",
       "                  ''),\n",
       "                 ('del t', ''),\n",
       "                 ('del n', ''),\n",
       "                 ('$62return_value.13 = cast(value=$60build_tuple.12)  :: UniTuple(int64 x 2)',\n",
       "                  ''),\n",
       "                 ('del $60build_tuple.12', ''),\n",
       "                 ('return $62return_value.13', '')]},\n",
       "               'ir_indent': {14: [],\n",
       "                15: [],\n",
       "                16: [],\n",
       "                17: [],\n",
       "                18: [],\n",
       "                19: [],\n",
       "                20: [],\n",
       "                21: [],\n",
       "                22: [],\n",
       "                23: [],\n",
       "                24: [],\n",
       "                25: [],\n",
       "                26: [],\n",
       "                27: [0,\n",
       "                 2,\n",
       "                 2,\n",
       "                 2,\n",
       "                 2,\n",
       "                 2,\n",
       "                 2,\n",
       "                 2,\n",
       "                 2,\n",
       "                 2,\n",
       "                 2,\n",
       "                 2,\n",
       "                 2,\n",
       "                 0,\n",
       "                 2,\n",
       "                 2,\n",
       "                 2,\n",
       "                 2,\n",
       "                 2,\n",
       "                 2,\n",
       "                 2,\n",
       "                 2,\n",
       "                 2,\n",
       "                 2,\n",
       "                 0,\n",
       "                 2,\n",
       "                 2,\n",
       "                 2,\n",
       "                 2,\n",
       "                 2,\n",
       "                 0],\n",
       "                28: [2, 2, 2, 2, 2, 2, 0, 2, 2, 2, 2, 2, 2, 2],\n",
       "                29: [],\n",
       "                30: [0, 2, 2, 2, 2, 2, 2, 2],\n",
       "                31: [2, 2, 2, 2, 2, 2, 2],\n",
       "                32: [],\n",
       "                33: [2, 2, 2, 2, 2, 2]}})])"
      ]
     },
     "execution_count": 5,
     "metadata": {},
     "output_type": "execute_result"
    }
   ],
   "source": [
    "# transient.signatures\n",
    "transient.get_annotation_info()"
   ]
  },
  {
   "cell_type": "code",
   "execution_count": 6,
   "id": "angry-final",
   "metadata": {},
   "outputs": [],
   "source": [
    "import numba"
   ]
  },
  {
   "cell_type": "code",
   "execution_count": 7,
   "id": "spectacular-basis",
   "metadata": {},
   "outputs": [
    {
     "data": {
      "text/plain": [
       "omitted(default=3000)"
      ]
     },
     "execution_count": 7,
     "metadata": {},
     "output_type": "execute_result"
    }
   ],
   "source": [
    "numba.types.Omitted(3000)"
   ]
  },
  {
   "cell_type": "code",
   "execution_count": 8,
   "id": "advance-attendance",
   "metadata": {},
   "outputs": [],
   "source": [
    "import rk4_functions"
   ]
  },
  {
   "cell_type": "code",
   "execution_count": 9,
   "id": "creative-ambassador",
   "metadata": {},
   "outputs": [
    {
     "ename": "TypeError",
     "evalue": "transient expected 3 arguments, got 1",
     "output_type": "error",
     "traceback": [
      "\u001b[0;31m---------------------------------------------------------------------------\u001b[0m",
      "\u001b[0;31mTypeError\u001b[0m                                 Traceback (most recent call last)",
      "\u001b[0;32m<ipython-input-9-e064d9a95944>\u001b[0m in \u001b[0;36m<module>\u001b[0;34m\u001b[0m\n\u001b[0;32m----> 1\u001b[0;31m \u001b[0mrk4_functions\u001b[0m\u001b[0;34m.\u001b[0m\u001b[0mtransient\u001b[0m\u001b[0;34m(\u001b[0m\u001b[0;36m1\u001b[0m\u001b[0;34m)\u001b[0m\u001b[0;34m\u001b[0m\u001b[0;34m\u001b[0m\u001b[0m\n\u001b[0m",
      "\u001b[0;31mTypeError\u001b[0m: transient expected 3 arguments, got 1"
     ]
    }
   ],
   "source": [
    "rk4_functions.transient(1)"
   ]
  }
 ],
 "metadata": {
  "kernelspec": {
   "display_name": "Python 3",
   "language": "python",
   "name": "python3"
  },
  "language_info": {
   "codemirror_mode": {
    "name": "ipython",
    "version": 3
   },
   "file_extension": ".py",
   "mimetype": "text/x-python",
   "name": "python",
   "nbconvert_exporter": "python",
   "pygments_lexer": "ipython3",
   "version": "3.8.8"
  }
 },
 "nbformat": 4,
 "nbformat_minor": 5
}
