{
 "cells": [
  {
   "cell_type": "code",
   "execution_count": 1,
   "id": "swedish-canon",
   "metadata": {},
   "outputs": [],
   "source": [
    "import sys\n",
    "sys.path.append('../')"
   ]
  },
  {
   "cell_type": "code",
   "execution_count": 2,
   "id": "efficient-patrol",
   "metadata": {},
   "outputs": [],
   "source": [
    "from functions import *"
   ]
  },
  {
   "cell_type": "code",
   "execution_count": 3,
   "id": "competitive-rouge",
   "metadata": {},
   "outputs": [],
   "source": [
    "import numpy as np\n",
    "from timeit import timeit\n",
    "import matplotlib.pyplot as plt\n",
    "from scipy.integrate import odeint"
   ]
  },
  {
   "cell_type": "code",
   "execution_count": 4,
   "id": "published-script",
   "metadata": {},
   "outputs": [],
   "source": [
    "lyapunov_exp_mat = np.load('../Data/lyapunov_exp.npy')\n",
    "alpha_gamma_mat = np.load('../Data/alpha_gamma.npy')"
   ]
  },
  {
   "cell_type": "code",
   "execution_count": 61,
   "id": "optional-newcastle",
   "metadata": {},
   "outputs": [],
   "source": [
    "β = 1000.0\n",
    "a = -8 / 7\n",
    "b = -5 / 7\n",
    "k = 1\n",
    "init_cond = [1.1, 0.12, 0.01]\n",
    "\n",
    "α, γ = alpha_gamma_mat[0, 134]"
   ]
  },
  {
   "cell_type": "code",
   "execution_count": 67,
   "id": "broad-gibraltar",
   "metadata": {},
   "outputs": [],
   "source": [
    "n_steps, transient_drop = transient(10)\n",
    "trajectory = rk_solver2(a, b, k, α, β, γ, init_cond[0], init_cond[1], init_cond[2], n_steps, transient_drop, 0.001)"
   ]
  },
  {
   "cell_type": "code",
   "execution_count": 24,
   "id": "blessed-settlement",
   "metadata": {},
   "outputs": [],
   "source": [
    "from numba import njit"
   ]
  },
  {
   "cell_type": "code",
   "execution_count": 25,
   "id": "adverse-sellers",
   "metadata": {},
   "outputs": [],
   "source": [
    "@njit\n",
    "def sistema(coords, t, a, b, k, α, β, γ):\n",
    "    x, y, z = coords\n",
    "    dydt = [dx_dt(a, b, k, α, x, y), dy_dt(k, x, y, z), dz_dt(k, β, γ, y, z)]\n",
    "    return dydt"
   ]
  },
  {
   "cell_type": "code",
   "execution_count": 63,
   "id": "experienced-boulder",
   "metadata": {},
   "outputs": [],
   "source": [
    "tvals = np.arange(0, int(n_steps*0.001), 0.001)"
   ]
  },
  {
   "cell_type": "code",
   "execution_count": 64,
   "id": "eligible-climate",
   "metadata": {},
   "outputs": [],
   "source": [
    "sol = odeint(sistema, init_cond, tvals, args=(a, b, k, α, β, γ))"
   ]
  },
  {
   "cell_type": "code",
   "execution_count": 65,
   "id": "developed-onion",
   "metadata": {},
   "outputs": [
    {
     "data": {
      "image/png": "[encoded data removed]",
      "text/plain": [
       "<Figure size 432x288 with 1 Axes>"
      ]
     },
     "metadata": {
      "needs_background": "light"
     },
     "output_type": "display_data"
    }
   ],
   "source": [
    "elevation, azimuth = 45, 45\n",
    "\n",
    "ax = plt.axes(projection='3d')\n",
    "ax.plot3D(sol[transient_drop:, 0], sol[transient_drop:, 1], sol[transient_drop:, 0], 'black', linewidth=0.5)\n",
    "ax.set_axis_off()\n",
    "ax.view_init(elev=elevation, azim=azimuth)\n",
    "    \n",
    "plt.show()"
   ]
  },
  {
   "cell_type": "code",
   "execution_count": 68,
   "id": "grateful-essay",
   "metadata": {},
   "outputs": [
    {
     "data": {
      "image/png": "[encoded data removed]",
      "text/plain": [
       "<Figure size 432x288 with 1 Axes>"
      ]
     },
     "metadata": {
      "needs_background": "light"
     },
     "output_type": "display_data"
    }
   ],
   "source": [
    "elevation, azimuth = 45, 45\n",
    "\n",
    "ax = plt.axes(projection='3d')\n",
    "ax.plot3D(trajectory[:, 0], trajectory[:, 1], trajectory[:, 0], 'black', linewidth=0.5)\n",
    "ax.set_axis_off()\n",
    "ax.view_init(elev=elevation, azim=azimuth)\n",
    "    \n",
    "plt.show()"
   ]
  },
  {
   "cell_type": "code",
   "execution_count": 22,
   "id": "eleven-bernard",
   "metadata": {},
   "outputs": [
    {
     "name": "stdout",
     "output_type": "stream",
     "text": [
      "[-0.9985845   0.14289707 -0.6803534 ]\n",
      "[-0.9985804   0.14271417 -0.69459075]\n",
      "[-1.7189826e+00  7.2276448e-03  7.9688902e+00]\n",
      "[-1.7170988e+00  7.8519136e-03  7.9676352e+00]\n"
     ]
    }
   ],
   "source": [
    "print(trajectory[0])\n",
    "print(trajectory[1])\n",
    "print(trajectory[-2])\n",
    "print(trajectory[-1])"
   ]
  },
  {
   "cell_type": "code",
   "execution_count": null,
   "id": "about-daughter",
   "metadata": {
    "scrolled": true
   },
   "outputs": [],
   "source": [
    "# %%timeit\n",
    "# rk_solver(a, b, k, α, β, γ, init_cond[0], init_cond[1], init_cond[2], n_steps, transient_drop)"
   ]
  },
  {
   "cell_type": "markdown",
   "id": "severe-occasion",
   "metadata": {},
   "source": [
    "## Write to file"
   ]
  },
  {
   "cell_type": "code",
   "execution_count": null,
   "id": "incorporated-hammer",
   "metadata": {},
   "outputs": [],
   "source": [
    "import struct"
   ]
  },
  {
   "cell_type": "code",
   "execution_count": null,
   "id": "frozen-colon",
   "metadata": {},
   "outputs": [],
   "source": [
    "alpha_gamma_mat.shape"
   ]
  },
  {
   "cell_type": "code",
   "execution_count": null,
   "id": "premium-invitation",
   "metadata": {},
   "outputs": [],
   "source": [
    "alpha_gamma_mat[19, 128]"
   ]
  },
  {
   "cell_type": "code",
   "execution_count": null,
   "id": "peaceful-reviewer",
   "metadata": {},
   "outputs": [],
   "source": [
    "lyapunov_exp_mat_flat = lyapunov_exp_mat.ravel()\n",
    "alpha_gamma_mat_flat = alpha_gamma_mat.ravel()\n",
    "with open('../Data/lyapunov_exp.bin', 'wb') as f:\n",
    "    f.write(struct.pack('d'*len(lyapunov_exp_mat_flat), *lyapunov_exp_mat_flat))\n",
    "    \n",
    "with open('../Data/alpha_gamma.bin', 'wb') as f:\n",
    "    f.write(struct.pack('d'*len(alpha_gamma_mat_flat), *alpha_gamma_mat_flat))"
   ]
  },
  {
   "cell_type": "code",
   "execution_count": null,
   "id": "chief-momentum",
   "metadata": {},
   "outputs": [],
   "source": [
    "with open('data.bin', 'wb') as f:\n",
    "    f.write(struct.pack('d', 12.3))\n",
    "    f.write(struct.pack('d', 3.14))"
   ]
  },
  {
   "cell_type": "code",
   "execution_count": 60,
   "id": "perceived-butler",
   "metadata": {},
   "outputs": [
    {
     "name": "stdout",
     "output_type": "stream",
     "text": [
      "-0.035388\n"
     ]
    }
   ],
   "source": [
    "print(lyapunov_exp_mat[0, 134])"
   ]
  }
 ],
 "metadata": {
  "kernelspec": {
   "display_name": "Python 3",
   "language": "python",
   "name": "python3"
  },
  "language_info": {
   "codemirror_mode": {
    "name": "ipython",
    "version": 3
   },
   "file_extension": ".py",
   "mimetype": "text/x-python",
   "name": "python",
   "nbconvert_exporter": "python",
   "pygments_lexer": "ipython3",
   "version": "3.8.8"
  }
 },
 "nbformat": 4,
 "nbformat_minor": 5
}
