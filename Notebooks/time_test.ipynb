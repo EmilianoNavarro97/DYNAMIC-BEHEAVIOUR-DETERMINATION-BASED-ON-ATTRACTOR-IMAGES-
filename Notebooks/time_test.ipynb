{
 "cells": [
  {
   "cell_type": "code",
   "execution_count": 1,
   "id": "swedish-canon",
   "metadata": {},
   "outputs": [],
   "source": [
    "import sys\n",
    "sys.path.append('../')"
   ]
  },
  {
   "cell_type": "code",
   "execution_count": 2,
   "id": "efficient-patrol",
   "metadata": {},
   "outputs": [],
   "source": [
    "from functions import *"
   ]
  },
  {
   "cell_type": "code",
   "execution_count": 3,
   "id": "competitive-rouge",
   "metadata": {},
   "outputs": [],
   "source": [
    "import numpy as np\n",
    "from timeit import timeit\n",
    "import matplotlib.pyplot as plt\n",
    "from scipy.integrate import odeint\n",
    "from numba import njit"
   ]
  },
  {
   "cell_type": "code",
   "execution_count": 14,
   "id": "lasting-soldier",
   "metadata": {},
   "outputs": [
    {
     "name": "stdout",
     "output_type": "stream",
     "text": [
      "[[ 1  4  7 10 13]\n",
      " [ 2  5  8 11 14]\n",
      " [ 3  6  9 12 15]]\n",
      "(3, 5)\n",
      "[[ 1  4  7 10]\n",
      " [ 2  5  8 11]]\n"
     ]
    }
   ],
   "source": [
    "arr = np.array([np.array([1, 2, 3]), np.array([4, 5, 6]), np.array([7, 8, 9]), np.array([10, 11, 12]), np.array([13, 14, 15])]).T\n",
    "print(arr)\n",
    "print(arr.shape)\n",
    "print(arr[:2, :4])"
   ]
  },
  {
   "cell_type": "code",
   "execution_count": 4,
   "id": "stylish-membership",
   "metadata": {},
   "outputs": [],
   "source": [
    "@njit\n",
    "def sistema(coords, t, a, b, k, α, β, γ):\n",
    "    x, y, z = coords\n",
    "    dydt = [dx_dt(a, b, k, α, x, y), dy_dt(k, x, y, z), dz_dt(k, β, γ, y, z)]\n",
    "    return dydt"
   ]
  },
  {
   "cell_type": "code",
   "execution_count": 4,
   "id": "published-script",
   "metadata": {},
   "outputs": [],
   "source": [
    "lyapunov_exp_mat = np.load('../Data/lyapunov_exp.npy')\n",
    "alpha_gamma_mat = np.load('../Data/alpha_gamma.npy')"
   ]
  },
  {
   "cell_type": "code",
   "execution_count": 5,
   "id": "optional-newcastle",
   "metadata": {},
   "outputs": [
    {
     "name": "stdout",
     "output_type": "stream",
     "text": [
      "1.540954\n"
     ]
    }
   ],
   "source": [
    "β = 1000.0\n",
    "a = -8 / 7\n",
    "b = -5 / 7\n",
    "k = 1\n",
    "init_cond = [1.1, 0.12, 0.01]\n",
    "\n",
    "α, γ = alpha_gamma_mat[0, 14]\n",
    "# α, γ = alpha_gamma_mat[0, 0]\n",
    "print(lyapunov_exp_mat[0, 14])\n",
    "\n",
    "n_steps, transient_drop = transient(1)\n",
    "tvals = np.arange(0, int(n_steps*0.001), 0.001)"
   ]
  },
  {
   "cell_type": "code",
   "execution_count": 6,
   "id": "caroline-patch",
   "metadata": {},
   "outputs": [
    {
     "data": {
      "image/png": "[encoded data removed]",
      "text/plain": [
       "<Figure size 432x288 with 1 Axes>"
      ]
     },
     "metadata": {
      "needs_background": "light"
     },
     "output_type": "display_data"
    }
   ],
   "source": [
    "trajectory = rk_solver(a, b, k, α, β, γ, init_cond[0], init_cond[1], init_cond[2], n_steps, transient_drop, 0.001)\n",
    "\n",
    "elevation, azimuth = 45, 45\n",
    "\n",
    "ax = plt.axes(projection='3d')\n",
    "ax.set_axis_off()\n",
    "ax.view_init(elev=elevation, azim=azimuth)\n",
    "ax.plot3D(trajectory[:, 0], trajectory[:, 1], trajectory[:, 0], 'black', linewidth=0.5)\n",
    "    \n",
    "plt.show()"
   ]
  },
  {
   "cell_type": "code",
   "execution_count": null,
   "id": "declared-province",
   "metadata": {},
   "outputs": [],
   "source": [
    "import mayavi.mlab as mlab"
   ]
  },
  {
   "cell_type": "code",
   "execution_count": null,
   "id": "behavioral-indiana",
   "metadata": {},
   "outputs": [],
   "source": []
  },
  {
   "cell_type": "code",
   "execution_count": 82,
   "id": "chemical-scientist",
   "metadata": {},
   "outputs": [
    {
     "data": {
      "image/png": "[encoded data removed]",
      "text/plain": [
       "<Figure size 432x288 with 1 Axes>"
      ]
     },
     "metadata": {
      "needs_background": "light"
     },
     "output_type": "display_data"
    }
   ],
   "source": [
    "sol = odeint(sistema, init_cond, tvals, args=(a, b, k, α, β, γ))\n",
    "\n",
    "elevation, azimuth = 45, 45\n",
    "\n",
    "ax = plt.axes(projection='3d')\n",
    "ax.plot3D(sol[transient_drop:, 0], sol[transient_drop:, 1], sol[transient_drop:, 0], 'black', linewidth=0.5)\n",
    "ax.set_axis_off()\n",
    "ax.view_init(elev=elevation, azim=azimuth)\n",
    "    \n",
    "plt.show()"
   ]
  },
  {
   "cell_type": "code",
   "execution_count": 16,
   "id": "about-daughter",
   "metadata": {
    "scrolled": true
   },
   "outputs": [
    {
     "name": "stdout",
     "output_type": "stream",
     "text": [
      "48.7 ms ± 331 µs per loop (mean ± std. dev. of 7 runs, 1 loop each)\n"
     ]
    }
   ],
   "source": [
    "%%timeit\n",
    "rk_solver(a, b, k, α, β, γ, init_cond[0], init_cond[1], init_cond[2], n_steps, transient_drop)"
   ]
  },
  {
   "cell_type": "markdown",
   "id": "severe-occasion",
   "metadata": {},
   "source": [
    "## Write to file"
   ]
  },
  {
   "cell_type": "code",
   "execution_count": null,
   "id": "incorporated-hammer",
   "metadata": {},
   "outputs": [],
   "source": [
    "import struct"
   ]
  },
  {
   "cell_type": "code",
   "execution_count": null,
   "id": "frozen-colon",
   "metadata": {},
   "outputs": [],
   "source": [
    "alpha_gamma_mat.shape"
   ]
  },
  {
   "cell_type": "code",
   "execution_count": null,
   "id": "premium-invitation",
   "metadata": {},
   "outputs": [],
   "source": [
    "alpha_gamma_mat[19, 128]"
   ]
  },
  {
   "cell_type": "code",
   "execution_count": null,
   "id": "peaceful-reviewer",
   "metadata": {},
   "outputs": [],
   "source": [
    "lyapunov_exp_mat_flat = lyapunov_exp_mat.ravel()\n",
    "alpha_gamma_mat_flat = alpha_gamma_mat.ravel()\n",
    "with open('../Data/lyapunov_exp.bin', 'wb') as f:\n",
    "    f.write(struct.pack('d'*len(lyapunov_exp_mat_flat), *lyapunov_exp_mat_flat))\n",
    "    \n",
    "with open('../Data/alpha_gamma.bin', 'wb') as f:\n",
    "    f.write(struct.pack('d'*len(alpha_gamma_mat_flat), *alpha_gamma_mat_flat))"
   ]
  },
  {
   "cell_type": "code",
   "execution_count": null,
   "id": "undefined-tuning",
   "metadata": {},
   "outputs": [],
   "source": [
    "with open('data.bin', 'wb') as f:\n",
    "    f.write(struct.pack('d', 12.3))\n",
    "    f.write(struct.pack('d', 3.14))"
   ]
  },
  {
   "cell_type": "code",
   "execution_count": 10,
   "id": "environmental-shanghai",
   "metadata": {},
   "outputs": [
    {
     "name": "stdout",
     "output_type": "stream",
     "text": [
      "-0.059023\n"
     ]
    }
   ],
   "source": [
    "print(lyapunov_exp_mat[0, 119])"
   ]
  }
 ],
 "metadata": {
  "kernelspec": {
   "display_name": "Python 3",
   "language": "python",
   "name": "python3"
  },
  "language_info": {
   "codemirror_mode": {
    "name": "ipython",
    "version": 3
   },
   "file_extension": ".py",
   "mimetype": "text/x-python",
   "name": "python",
   "nbconvert_exporter": "python",
   "pygments_lexer": "ipython3",
   "version": "3.8.8"
  }
 },
 "nbformat": 4,
 "nbformat_minor": 5
}
