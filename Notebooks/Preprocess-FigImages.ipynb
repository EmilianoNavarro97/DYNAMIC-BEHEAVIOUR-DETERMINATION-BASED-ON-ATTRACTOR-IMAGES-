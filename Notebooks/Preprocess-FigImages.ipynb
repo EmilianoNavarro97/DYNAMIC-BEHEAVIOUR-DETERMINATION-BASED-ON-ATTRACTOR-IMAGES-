{
 "cells": [
  {
   "cell_type": "code",
   "execution_count": 1,
   "id": "excess-appliance",
   "metadata": {},
   "outputs": [],
   "source": [
    "from shutil import copy\n",
    "import numpy as np\n",
    "import os\n",
    "\n",
    "from tqdm.notebook import tqdm"
   ]
  },
  {
   "cell_type": "code",
   "execution_count": 2,
   "id": "stretch-repeat",
   "metadata": {},
   "outputs": [],
   "source": [
    "lyapunov = np.load('../Data/lyapunov_exp.npy')"
   ]
  },
  {
   "cell_type": "code",
   "execution_count": 4,
   "id": "failing-bulletin",
   "metadata": {},
   "outputs": [
    {
     "data": {
      "application/vnd.jupyter.widget-view+json": {
       "model_id": "a1ee6508ae9c4c83999a00f2736a22b4",
       "version_major": 2,
       "version_minor": 0
      },
      "text/plain": [
       "  0%|          | 0/40000 [00:00<?, ?it/s]"
      ]
     },
     "metadata": {},
     "output_type": "display_data"
    }
   ],
   "source": [
    "for file in tqdm(os.listdir('../FigImages/')):\n",
    "    i, j = list(map(int, file.split('.')[0].split('_')))\n",
    "    if lyapunov[i, j] > 0:\n",
    "        clase = 'caotico'\n",
    "    else:\n",
    "        clase = 'regular'\n",
    "    \n",
    "    if not os.path.isdir(f'../TestChua/{clase}'):\n",
    "        os.makedirs(f'../TestChua/{clase}')\n",
    "    \n",
    "    copy(f'../FigImages/{file}', f'../TestChua/{clase}/{file}')"
   ]
  },
  {
   "cell_type": "code",
   "execution_count": 12,
   "id": "innovative-prototype",
   "metadata": {},
   "outputs": [
    {
     "data": {
      "application/vnd.jupyter.widget-view+json": {
       "model_id": "42d1bf9add47431abb44bee447e33b55",
       "version_major": 2,
       "version_minor": 0
      },
      "text/plain": [
       "  0%|          | 0/700 [00:00<?, ?it/s]"
      ]
     },
     "metadata": {},
     "output_type": "display_data"
    }
   ],
   "source": [
    "files = os.listdir('../TestChua/caotico_prev/')\n",
    "idxs = np.random.choice(list(range(len(files))), size=700, replace=False)\n",
    "\n",
    "if not os.path.isdir(f'../TestChua/caotico'):\n",
    "    os.makedirs(f'../TestChua/caotico')\n",
    "\n",
    "for i in tqdm(idxs):\n",
    "    copy(f'../TestChua/caotico_prev/{files[i]}', f'../TestChua/caotico/{files[i]}')"
   ]
  }
 ],
 "metadata": {
  "kernelspec": {
   "display_name": "Python 3",
   "language": "python",
   "name": "python3"
  },
  "language_info": {
   "codemirror_mode": {
    "name": "ipython",
    "version": 3
   },
   "file_extension": ".py",
   "mimetype": "text/x-python",
   "name": "python",
   "nbconvert_exporter": "python",
   "pygments_lexer": "ipython3",
   "version": "3.8.8"
  }
 },
 "nbformat": 4,
 "nbformat_minor": 5
}
