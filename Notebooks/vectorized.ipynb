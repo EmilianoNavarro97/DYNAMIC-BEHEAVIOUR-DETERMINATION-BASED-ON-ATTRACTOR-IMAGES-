{
 "cells": [
  {
   "cell_type": "code",
   "execution_count": 1,
   "id": "dried-picking",
   "metadata": {},
   "outputs": [],
   "source": [
    "import sys\n",
    "sys.path.append(\"../\")"
   ]
  },
  {
   "cell_type": "code",
   "execution_count": 2,
   "id": "aerial-trigger",
   "metadata": {},
   "outputs": [],
   "source": [
    "import numpy as np\n",
    "import matplotlib.pyplot as plt\n",
    "from functions import *"
   ]
  },
  {
   "cell_type": "code",
   "execution_count": 3,
   "id": "egyptian-happening",
   "metadata": {},
   "outputs": [],
   "source": [
    "from numba import njit"
   ]
  },
  {
   "cell_type": "code",
   "execution_count": 4,
   "id": "empty-harmony",
   "metadata": {},
   "outputs": [],
   "source": [
    "@njit\n",
    "def rk_solver_mat(a: float, b: float, k: float,\n",
    "                  α: np.ndarray, β: float, γ: np.ndarray,\n",
    "                  x: np.ndarray, y: np.ndarray, z: np.ndarray,\n",
    "                  n_steps: int, transient_drop: int, batchs=1, h=0.001) -> np.ndarray:\n",
    "    trajectory = np.empty((batchs, n_steps - transient_drop, 3), dtype=np.float32)\n",
    "\n",
    "    idx = 0\n",
    "    for t in range(0, n_steps):\n",
    "        k1 = dx_dt(a, b, k, α, x, y)\n",
    "        l1 = dy_dt(k, x, y, z)\n",
    "        m1 = dz_dt(k, β, γ, y, z)\n",
    "\n",
    "        k2 = dx_dt(a, b, k, α, x + 0.5 * h * k1, y + 0.5 * h * l1)\n",
    "        l2 = dy_dt(k, x + 0.5 * h * k1, y + 0.5 * h * l1, z + 0.5 * h * m1)\n",
    "        m2 = dz_dt(k, β, γ, y + 0.5 * h * l1, z + 0.5 * h * m1)\n",
    "\n",
    "        k3 = dx_dt(a, b, k, α, x + 0.5 * h * k2, y + 0.5 * h * l2)\n",
    "        l3 = dy_dt(k, x + 0.5 * h * k2, y + 0.5 * h * l2, z + 0.5 * h * m2)\n",
    "        m3 = dz_dt(k, β, γ, y + 0.5 * h * l2, z + 0.5 * h * m2)\n",
    "\n",
    "        k4 = dx_dt(a, b, k, α, x + h * k3, y + h * l3)\n",
    "        l4 = dy_dt(k, x + h * k3, y + h * l3, z + h * m3)\n",
    "        m4 = dz_dt(k, β, γ, y + h * l3, z + h * m3)\n",
    "\n",
    "        x = x + 1 / 6 * (k1 + 2 * k2 + 2 * k3 + k4) * h\n",
    "        y = y + 1 / 6 * (l1 + 2 * l2 + 2 * l3 + l4) * h\n",
    "        z = z + 1 / 6 * (m1 + 2 * m2 + 2 * m3 + m4) * h\n",
    "        \n",
    "        if t >= transient_drop:\n",
    "            trajectory[:, idx, 0] = x\n",
    "            trajectory[:, idx, 1] = y\n",
    "            trajectory[:, idx, 2] = z\n",
    "            idx += 1\n",
    "\n",
    "    return trajectory"
   ]
  },
  {
   "cell_type": "code",
   "execution_count": 5,
   "id": "dressed-organic",
   "metadata": {},
   "outputs": [],
   "source": [
    "alpha_gamma_mat = np.load('../Data/alpha_gamma.npy')"
   ]
  },
  {
   "cell_type": "code",
   "execution_count": 8,
   "id": "hispanic-bridal",
   "metadata": {},
   "outputs": [],
   "source": [
    "β = 1000.0\n",
    "a = -8/7\n",
    "b = -5/7\n",
    "k = 1\n",
    "init_cond = [1.1, 0.12, 0.01]\n",
    "batch = 1200\n",
    "# batch = 1\n",
    "crop = alpha_gamma_mat[0, :batch]\n",
    "α = crop[:, 0]\n",
    "γ = crop[:, 1]"
   ]
  },
  {
   "cell_type": "code",
   "execution_count": 10,
   "id": "cloudy-study",
   "metadata": {},
   "outputs": [],
   "source": [
    "n_steps, transient_drop = transient(1)\n",
    "x_init = np.array([init_cond[0]]*batch)\n",
    "y_init = np.array([init_cond[1]]*batch)\n",
    "z_init = np.array([init_cond[2]]*batch)\n",
    "trajs = rk_solver_mat(a, b, k, α, β, γ, x_init, y_init, z_init, n_steps, transient_drop, batch)"
   ]
  },
  {
   "cell_type": "code",
   "execution_count": 13,
   "id": "annoying-elite",
   "metadata": {},
   "outputs": [],
   "source": [
    "idx = np.random.randint(0, batch)"
   ]
  },
  {
   "cell_type": "code",
   "execution_count": 16,
   "id": "strong-inspection",
   "metadata": {},
   "outputs": [],
   "source": [
    "single_trajectory = rk_solver(a, b, k, α[idx], β, γ[idx], init_cond[0], init_cond[1], init_cond[2], n_steps, transient_drop, 0.001)"
   ]
  },
  {
   "cell_type": "code",
   "execution_count": 21,
   "id": "dental-adobe",
   "metadata": {},
   "outputs": [
    {
     "name": "stdout",
     "output_type": "stream",
     "text": [
      "True\n"
     ]
    }
   ],
   "source": [
    "print(np.array_equal(trajs[idx], single_trajectory))"
   ]
  }
 ],
 "metadata": {
  "kernelspec": {
   "display_name": "Python 3",
   "language": "python",
   "name": "python3"
  },
  "language_info": {
   "codemirror_mode": {
    "name": "ipython",
    "version": 3
   },
   "file_extension": ".py",
   "mimetype": "text/x-python",
   "name": "python",
   "nbconvert_exporter": "python",
   "pygments_lexer": "ipython3",
   "version": "3.8.8"
  }
 },
 "nbformat": 4,
 "nbformat_minor": 5
}
