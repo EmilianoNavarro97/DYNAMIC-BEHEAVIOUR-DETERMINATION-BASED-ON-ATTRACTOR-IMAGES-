{
 "cells": [
  {
   "cell_type": "code",
   "execution_count": 1,
   "id": "dried-picking",
   "metadata": {},
   "outputs": [],
   "source": [
    "import sys\n",
    "sys.path.append(\"../\")"
   ]
  },
  {
   "cell_type": "code",
   "execution_count": 2,
   "id": "aerial-trigger",
   "metadata": {},
   "outputs": [],
   "source": [
    "import numpy as np\n",
    "import matplotlib.pyplot as plt\n",
    "from functions_mat import *\n",
    "import functions"
   ]
  },
  {
   "cell_type": "code",
   "execution_count": 3,
   "id": "dressed-organic",
   "metadata": {},
   "outputs": [],
   "source": [
    "alpha_gamma_mat = np.load('../Data/alpha_gamma.npy')"
   ]
  },
  {
   "cell_type": "code",
   "execution_count": 4,
   "id": "hispanic-bridal",
   "metadata": {},
   "outputs": [],
   "source": [
    "β = 1000.0\n",
    "a = -8/7\n",
    "b = -5/7\n",
    "k = 1\n",
    "init_cond = [1.1, 0.12, 0.01]\n",
    "n_batch = 2\n",
    "crop = alpha_gamma_mat[0, :n_batch]\n",
    "α = crop[:, 0]\n",
    "γ = crop[:, 1]"
   ]
  },
  {
   "cell_type": "code",
   "execution_count": 10,
   "id": "cloudy-study",
   "metadata": {},
   "outputs": [],
   "source": [
    "n_steps, transient_drop = transient(1)\n",
    "x_init = np.array([init_cond[0]]*n_batch)\n",
    "y_init = np.array([init_cond[1]]*n_batch)\n",
    "z_init = np.array([init_cond[2]]*n_batch)\n",
    "trajectory = np.empty((n_batch, n_steps - transient_drop, 3), dtype=np.float32)\n",
    "rk_solver(a, b, k, α, β, γ, x_init, y_init, z_init, n_steps, transient_drop, trajectory)"
   ]
  },
  {
   "cell_type": "code",
   "execution_count": 11,
   "id": "strong-inspection",
   "metadata": {},
   "outputs": [
    {
     "name": "stdout",
     "output_type": "stream",
     "text": [
      "True\n"
     ]
    }
   ],
   "source": [
    "idx = 1\n",
    "trajectory1 = functions.rk_solver(a, b, k, α[idx], β, γ[idx], init_cond[0], init_cond[1], init_cond[2], n_steps, transient_drop, 0.001)\n",
    "\n",
    "print(np.array_equal(trajectory[idx], trajectory1))"
   ]
  }
 ],
 "metadata": {
  "kernelspec": {
   "display_name": "Python 3",
   "language": "python",
   "name": "python3"
  },
  "language_info": {
   "codemirror_mode": {
    "name": "ipython",
    "version": 3
   },
   "file_extension": ".py",
   "mimetype": "text/x-python",
   "name": "python",
   "nbconvert_exporter": "python",
   "pygments_lexer": "ipython3",
   "version": "3.8.8"
  }
 },
 "nbformat": 4,
 "nbformat_minor": 5
}
